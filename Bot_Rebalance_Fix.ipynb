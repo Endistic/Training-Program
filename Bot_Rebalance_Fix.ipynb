{
  "nbformat": 4,
  "nbformat_minor": 0,
  "metadata": {
    "colab": {
      "name": "Bot Rebalance Fix.ipynb",
      "provenance": [],
      "authorship_tag": "ABX9TyP5SKTblkHvB6fhkHo4Simv",
      "include_colab_link": true
    },
    "kernelspec": {
      "name": "python3",
      "display_name": "Python 3"
    },
    "language_info": {
      "name": "python"
    }
  },
  "cells": [
    {
      "cell_type": "markdown",
      "metadata": {
        "id": "view-in-github",
        "colab_type": "text"
      },
      "source": [
        "<a href=\"https://colab.research.google.com/github/Endistic/Training-Program/blob/main/Bot_Rebalance_Fix.ipynb\" target=\"_parent\"><img src=\"https://colab.research.google.com/assets/colab-badge.svg\" alt=\"Open In Colab\"/></a>"
      ]
    },
    {
      "cell_type": "code",
      "execution_count": 1,
      "metadata": {
        "colab": {
          "base_uri": "https://localhost:8080/"
        },
        "id": "h0XOukqLvupQ",
        "outputId": "6db96712-f78a-490f-b46c-ab541f484339"
      },
      "outputs": [
        {
          "output_type": "stream",
          "name": "stdout",
          "text": [
            "Collecting ccxt\n",
            "  Downloading ccxt-1.63.65-py2.py3-none-any.whl (2.2 MB)\n",
            "\u001b[K     |████████████████████████████████| 2.2 MB 30.3 MB/s \n",
            "\u001b[?25hRequirement already satisfied: requests>=2.18.4 in /usr/local/lib/python3.7/dist-packages (from ccxt) (2.23.0)\n",
            "Collecting aiohttp>=3.8\n",
            "  Downloading aiohttp-3.8.1-cp37-cp37m-manylinux_2_5_x86_64.manylinux1_x86_64.manylinux_2_12_x86_64.manylinux2010_x86_64.whl (1.1 MB)\n",
            "\u001b[K     |████████████████████████████████| 1.1 MB 39.7 MB/s \n",
            "\u001b[?25hCollecting aiodns>=1.1.1\n",
            "  Downloading aiodns-3.0.0-py3-none-any.whl (5.0 kB)\n",
            "Requirement already satisfied: setuptools>=38.5.1 in /usr/local/lib/python3.7/dist-packages (from ccxt) (57.4.0)\n",
            "Collecting yarl==1.7.2\n",
            "  Downloading yarl-1.7.2-cp37-cp37m-manylinux_2_5_x86_64.manylinux1_x86_64.manylinux_2_12_x86_64.manylinux2010_x86_64.whl (271 kB)\n",
            "\u001b[K     |████████████████████████████████| 271 kB 71.1 MB/s \n",
            "\u001b[?25hCollecting cryptography>=2.6.1\n",
            "  Downloading cryptography-36.0.0-cp36-abi3-manylinux_2_24_x86_64.whl (3.6 MB)\n",
            "\u001b[K     |████████████████████████████████| 3.6 MB 45.7 MB/s \n",
            "\u001b[?25hRequirement already satisfied: certifi>=2018.1.18 in /usr/local/lib/python3.7/dist-packages (from ccxt) (2021.10.8)\n",
            "Requirement already satisfied: idna>=2.0 in /usr/local/lib/python3.7/dist-packages (from yarl==1.7.2->ccxt) (2.10)\n",
            "Requirement already satisfied: typing-extensions>=3.7.4 in /usr/local/lib/python3.7/dist-packages (from yarl==1.7.2->ccxt) (3.10.0.2)\n",
            "Collecting multidict>=4.0\n",
            "  Downloading multidict-5.2.0-cp37-cp37m-manylinux_2_5_x86_64.manylinux1_x86_64.manylinux_2_12_x86_64.manylinux2010_x86_64.whl (160 kB)\n",
            "\u001b[K     |████████████████████████████████| 160 kB 58.5 MB/s \n",
            "\u001b[?25hCollecting pycares>=4.0.0\n",
            "  Downloading pycares-4.1.2-cp37-cp37m-manylinux_2_5_x86_64.manylinux1_x86_64.manylinux_2_12_x86_64.manylinux2010_x86_64.whl (291 kB)\n",
            "\u001b[K     |████████████████████████████████| 291 kB 59.6 MB/s \n",
            "\u001b[?25hCollecting async-timeout<5.0,>=4.0.0a3\n",
            "  Downloading async_timeout-4.0.1-py3-none-any.whl (5.7 kB)\n",
            "Collecting aiosignal>=1.1.2\n",
            "  Downloading aiosignal-1.2.0-py3-none-any.whl (8.2 kB)\n",
            "Requirement already satisfied: attrs>=17.3.0 in /usr/local/lib/python3.7/dist-packages (from aiohttp>=3.8->ccxt) (21.2.0)\n",
            "Requirement already satisfied: charset-normalizer<3.0,>=2.0 in /usr/local/lib/python3.7/dist-packages (from aiohttp>=3.8->ccxt) (2.0.8)\n",
            "Collecting frozenlist>=1.1.1\n",
            "  Downloading frozenlist-1.2.0-cp37-cp37m-manylinux_2_5_x86_64.manylinux1_x86_64.manylinux_2_12_x86_64.manylinux2010_x86_64.whl (192 kB)\n",
            "\u001b[K     |████████████████████████████████| 192 kB 52.4 MB/s \n",
            "\u001b[?25hCollecting asynctest==0.13.0\n",
            "  Downloading asynctest-0.13.0-py3-none-any.whl (26 kB)\n",
            "Requirement already satisfied: cffi>=1.12 in /usr/local/lib/python3.7/dist-packages (from cryptography>=2.6.1->ccxt) (1.15.0)\n",
            "Requirement already satisfied: pycparser in /usr/local/lib/python3.7/dist-packages (from cffi>=1.12->cryptography>=2.6.1->ccxt) (2.21)\n",
            "Requirement already satisfied: urllib3!=1.25.0,!=1.25.1,<1.26,>=1.21.1 in /usr/local/lib/python3.7/dist-packages (from requests>=2.18.4->ccxt) (1.24.3)\n",
            "Requirement already satisfied: chardet<4,>=3.0.2 in /usr/local/lib/python3.7/dist-packages (from requests>=2.18.4->ccxt) (3.0.4)\n",
            "Installing collected packages: multidict, frozenlist, yarl, pycares, asynctest, async-timeout, aiosignal, cryptography, aiohttp, aiodns, ccxt\n",
            "Successfully installed aiodns-3.0.0 aiohttp-3.8.1 aiosignal-1.2.0 async-timeout-4.0.1 asynctest-0.13.0 ccxt-1.63.65 cryptography-36.0.0 frozenlist-1.2.0 multidict-5.2.0 pycares-4.1.2 yarl-1.7.2\n",
            "Requirement already satisfied: pandas in /usr/local/lib/python3.7/dist-packages (1.1.5)\n",
            "Requirement already satisfied: python-dateutil>=2.7.3 in /usr/local/lib/python3.7/dist-packages (from pandas) (2.8.2)\n",
            "Requirement already satisfied: pytz>=2017.2 in /usr/local/lib/python3.7/dist-packages (from pandas) (2018.9)\n",
            "Requirement already satisfied: numpy>=1.15.4 in /usr/local/lib/python3.7/dist-packages (from pandas) (1.19.5)\n",
            "Requirement already satisfied: six>=1.5 in /usr/local/lib/python3.7/dist-packages (from python-dateutil>=2.7.3->pandas) (1.15.0)\n"
          ]
        }
      ],
      "source": [
        "# install lib\n",
        "!pip install ccxt\n",
        "!pip install pandas"
      ]
    },
    {
      "cell_type": "code",
      "source": [
        "## Login \n",
        "\n",
        "import ccxt\n",
        "# เปลี่ยน API เปลียน ข้อมูลกันด้วยนะครับ\n",
        "apiKey    = \"TOc0GKjb5-rqm0vItcXFMZRbjkRxodqylfRvkTDT\" \n",
        "secret    = \"yIhBBq-G8ihGuCDMBMuOLcuihD1eIX1i-7BIGA2_\" \n",
        "password  = \"\" \n",
        "Account_name  = \"Endy\" \n",
        "\n",
        "exchange = ccxt.ftx  ({'apiKey' : apiKey ,'secret' : secret ,'password' : password ,'enableRateLimit': True})\n",
        "\n"
      ],
      "metadata": {
        "id": "7fRLN61Pv9i2"
      },
      "execution_count": 84,
      "outputs": []
    },
    {
      "cell_type": "code",
      "source": [
        "# ดูในพอร์ท ว่ามีเงินเท่าไร\n",
        "import pandas as pd\n",
        "Get_balance = exchange.fetch_balance()\n",
        "print(pd.DataFrame(Get_balance['info']['result']))"
      ],
      "metadata": {
        "colab": {
          "base_uri": "https://localhost:8080/"
        },
        "id": "Ro8wvtyjwAt-",
        "outputId": "11dfc49d-611a-442b-9212-a3471fc044d0"
      },
      "execution_count": 90,
      "outputs": [
        {
          "output_type": "stream",
          "name": "stdout",
          "text": [
            "  coin total free availableWithoutBorrow usdValue spotBorrow\n",
            "0  USD   0.0  0.0                    0.0      0.0        0.0\n",
            "1  BTC   0.0  0.0                    0.0      0.0        0.0\n"
          ]
        }
      ]
    },
    {
      "cell_type": "code",
      "source": [
        "# ดูในพอร์ท ว่ามีเงินเท่าไร\n",
        "Asset_01 = Get_balance ['BTC'] ['total']\n",
        "Asset_02 = Get_balance ['USD'] ['total']\n",
        "print(\"Asset 01 = \" , Asset_01,\"BTC\")\n",
        "print(\"Asset 02 = \" , Asset_02,\"USD\")"
      ],
      "metadata": {
        "colab": {
          "base_uri": "https://localhost:8080/"
        },
        "id": "JDHB0oyfwDJu",
        "outputId": "a02bc03c-3f40-40c9-8321-8bb87ab650a7"
      },
      "execution_count": 87,
      "outputs": [
        {
          "output_type": "stream",
          "name": "stdout",
          "text": [
            "Asset 01 =  0.0 BTC\n",
            "Asset 02 =  0.0 USD\n"
          ]
        }
      ]
    },
    {
      "cell_type": "code",
      "source": [
        "# เรียกดูราคา สินทรัพย์ ที่เราเทรด เพื่อหา มูลค่า\n",
        "get_price     = exchange.fetch_ticker('BTC/USD') \n",
        "print(get_price)\n",
        "Average_price = (get_price ['bid'] + get_price ['ask'] ) / 2\n",
        "print(\"Average_price = \" ,Average_price)"
      ],
      "metadata": {
        "colab": {
          "base_uri": "https://localhost:8080/"
        },
        "id": "KN59XQqywGrd",
        "outputId": "48b25534-f974-4e6c-d218-40285741a0ac"
      },
      "execution_count": 29,
      "outputs": [
        {
          "output_type": "stream",
          "name": "stdout",
          "text": [
            "{'symbol': 'BTC/USD', 'timestamp': 1639382682567, 'datetime': '2021-12-13T08:04:42.567Z', 'high': None, 'low': None, 'bid': 48780.0, 'bidVolume': None, 'ask': 48781.0, 'askVolume': None, 'vwap': None, 'open': 49301.303291488366, 'close': 48778.0, 'last': 48778.0, 'previousClose': None, 'change': -523.3032914883693, 'percentage': -1.0728264617007037, 'average': None, 'baseVolume': None, 'quoteVolume': 544964130.6363, 'info': {'name': 'BTC/USD', 'enabled': True, 'postOnly': False, 'priceIncrement': '1.0', 'sizeIncrement': '0.0001', 'minProvideSize': '0.0001', 'last': '48778.0', 'bid': '48780.0', 'ask': '48781.0', 'price': '48780.0', 'type': 'spot', 'baseCurrency': 'BTC', 'quoteCurrency': 'USD', 'underlying': None, 'restricted': False, 'highLeverageFeeExempt': True, 'change1h': '-0.00440852314474651', 'change24h': '-0.010728264617007037', 'changeBod': '-0.028228778612267667', 'quoteVolume24h': '544964130.6363', 'volumeUsd24h': '544964130.6363'}}\n",
            "Average_price =  48780.5\n"
          ]
        }
      ]
    },
    {
      "cell_type": "code",
      "source": [
        "# มูลค่า ของ Asset\n",
        "Asset_01_Value = Asset_01 * Average_price\n",
        "print(\"Asset_01_Value = \" ,Asset_01_Value)"
      ],
      "metadata": {
        "colab": {
          "base_uri": "https://localhost:8080/"
        },
        "id": "TxLag68cwJI2",
        "outputId": "1ed2573b-5f58-4f85-8df3-000416b8f617"
      },
      "execution_count": 30,
      "outputs": [
        {
          "output_type": "stream",
          "name": "stdout",
          "text": [
            "Asset_01_Value =  0.0\n"
          ]
        }
      ]
    },
    {
      "cell_type": "code",
      "source": [
        "\n",
        "Rebalance_mark = 2000\n",
        "Rebalance_percent = 1\n",
        "\n",
        "#    Asset_01_Value > (2000           + (2000          *   1             /100) ) :      \n",
        "if   Asset_01_Value > (Rebalance_mark + (Rebalance_mark*Rebalance_percent/100) ) :\n",
        "  print(\"Asset_01_Value \",Asset_01_Value ,\">\", (Rebalance_mark + (Rebalance_mark*Rebalance_percent/100) ))\n",
        "  print(\"SELL\")\n",
        "  diff_sell  = Asset_01_Value - Rebalance_mark\n",
        "  print(diff_sell)\n",
        "  #exchange.create_order('FTT/USD' ,'market','sell',(diff_sell/Average_price)) ## กำหนดเป็น Unit USD/Price\n",
        "\n",
        "elif Asset_01_Value < (Rebalance_mark - (Rebalance_mark*Rebalance_percent/100) ) :\n",
        "  print(\"Asset_01_Value \",Asset_01_Value ,\"<\", (Rebalance_mark - (Rebalance_mark*Rebalance_percent/100) ))\n",
        "  print(\"Buy\")\n",
        "  diff_buy  = Rebalance_mark - Asset_01_Value\n",
        "  print(diff_buy)\n",
        "  #exchange.create_order('FTT/USD' ,'market','buy',(diff_buy/Average_price))\n",
        "  \n",
        "else :\n",
        "  print(\"None Trade\")"
      ],
      "metadata": {
        "id": "Hl4z_eOUwLgv"
      },
      "execution_count": null,
      "outputs": []
    },
    {
      "cell_type": "code",
      "source": [
        "# Run bot loop\n",
        "import ccxt\n",
        "\n",
        "while True:\n",
        "  # เปลี่ยน API เปลียน ข้อมูลกันด้วยนะครับ\n",
        "  apiKey = \"\" #@param {type:\"string\"}\n",
        "  secret = \"\" #@param {type:\"string\"}\n",
        "  password = \"\"                   #@param {type:\"string\"}\n",
        "  Account_name  = \"Endy\"           #@param {type:\"string\"}\n",
        "\n",
        "  pair_trade = 'BTC/USD'          #@param {type:\"string\"}\n",
        "  Asset_RB   = 'BTC'              #@param {type:\"string\"}\n",
        "\n",
        "  Rebalance_mark = 2000           #@param \n",
        "  Rebalance_percent = 1           #@param \n",
        "\n",
        "####################################################\n",
        "  exchange = ccxt.ftx  ({\n",
        "    'apiKey' : apiKey ,'secret' : secret ,'password' : password ,'enableRateLimit': True\n",
        "  })\n",
        "  # Sub Account Check\n",
        "  if Account_name == \"\" :\n",
        "    print(\"\\n\"\"Account Name - This is Main Account\",': Broker - ',exchange)     \n",
        "  else:\n",
        "    print( \"\\n\"'Account Name - ',Account_name,': Broker - ',exchange)\n",
        "    exchange.headers = {\n",
        "      'ftx-SUBACCOUNT': Account_name,\n",
        "    }\n",
        "\n",
        "  Get_balance = exchange.fetch_balance()\n",
        "  Asset_01 = Get_balance [Asset_RB] ['total']\n",
        "  print(\"Asset 01 = \" , Asset_01,Asset_RB)\n",
        "\n",
        "  get_price     = exchange.fetch_ticker(pair_trade) \n",
        "  Average_price = (get_price ['bid'] + get_price ['ask'] )/2\n",
        "  print(\"Asset 01 = \" , Asset_01*Average_price)\n",
        "  print(\"Asset Rebalance_mark = \" , Rebalance_mark)\n",
        "\n",
        "  # มูลค่า ของ Asset\n",
        "  Asset_01_Value = Asset_01 * Average_price\n",
        "  print(\"Asset_01_Value = \" ,Asset_01_Value)\n",
        "\n",
        "  if   Asset_01_Value > (Rebalance_mark + (Rebalance_mark*Rebalance_percent/100) ) :\n",
        "    print(\"Asset_01_Value \",Asset_01_Value ,\">\", (Rebalance_mark + (Rebalance_mark*Rebalance_percent/100) ))\n",
        "    print(\"SELL\")\n",
        "    diff_sell  = Asset_01_Value - Rebalance_mark\n",
        "    print(diff_sell)\n",
        "    #exchange.create_order(pair_trade ,'market','sell',(diff_sell/Average_price))\n",
        "\n",
        "  elif Asset_01_Value < (Rebalance_mark - (Rebalance_mark*Rebalance_percent/100) ) :\n",
        "    print(\"Asset_01_Value \",Asset_01_Value ,\"<\", (Rebalance_mark - (Rebalance_mark*Rebalance_percent/100) ))\n",
        "    print(\"Buy\")\n",
        "    diff_buy  = Rebalance_mark - Asset_01_Value\n",
        "    print(diff_buy)\n",
        "    #exchange.create_order(pair_trade ,'market','buy',(diff_buy/Average_price))\n",
        "    \n",
        "  else :\n",
        "    print(\"None Trade\")\n",
        "\n",
        "  import time\n",
        "  sleep = 10 \n",
        "  print(\"Sleep\",sleep,\"sec.\")\n",
        "  time.sleep(sleep) # Delay for 1 minute (60 seconds).  "
      ],
      "metadata": {
        "id": "cnE_lU-uwTNw"
      },
      "execution_count": null,
      "outputs": []
    }
  ]
}